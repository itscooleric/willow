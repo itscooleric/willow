{
 "cells": [
  {
   "cell_type": "code",
   "execution_count": 3,
   "metadata": {},
   "outputs": [],
   "source": [
    "import pandas as pd\n",
    "import graphviz\n",
    "from sklearn.preprocessing import LabelEncoder\n",
    "from sklearn.tree import DecisionTreeClassifier, export_graphviz\n",
    "from sklearn.model_selection import train_test_split\n",
    "from sklearn.metrics import accuracy_score\n",
    "# Loading Iris dataset.\n",
    "data = pd.read_csv('iris/iris.csv')\n",
    "# Creating a LabelEncoder and fitting it to the dataset labels.\n",
    "le = LabelEncoder()\n",
    "le.fit(data['class'].values)\n",
    "# Converting dataset str labels to int labels.\n",
    "y = le.transform(data['class'].values)\n",
    "# Extracting the instances data.\n",
    "X = data.drop('class', axis=1).values\n",
    "# Splitting into train and test sets.\n",
    "# X_train, X_test, y_train, y_test = train_test_split(X, y, test_size=0.34, stratify=y, random_state=seed)\n"
   ]
  },
  {
   "cell_type": "code",
   "execution_count": 17,
   "metadata": {},
   "outputs": [],
   "source": [
    "# Creating a DecisionTreeClassifier\n",
    "# The min_samples_leaf parameter indicates the minimum of objects required at a leaf node.\n",
    "# The min_samples_split parameter indicates the minimum number of objects required to split an internal node.\n",
    "# The max_depth parameter controls the maximum tree depth. Setting this parameter to None will grow the\n",
    "# tree until all leaves are pure or until all leaves contain less than min_samples_split samples.\n",
    "tree = DecisionTreeClassifier(\n",
    "    criterion='gini',\n",
    "    min_samples_leaf=5,\n",
    "    min_samples_split=5,\n",
    "    max_depth=None\n",
    ")\n",
    "tree.fit(X, y)\n",
    "def plot_tree(tree, dataframe, label_col, label_encoder, plot_title):\n",
    "    label_names = pd.unique(dataframe[label_col])\n",
    "    # Obtaining plot data.\n",
    "    graph_data = export_graphviz(tree,\n",
    "        feature_names=dataframe.drop(label_col, axis=1).columns,\n",
    "        class_names=label_names,\n",
    "        filled=True,\n",
    "        rounded=True,\n",
    "        out_file=None)\n",
    "    # Generating plot.\n",
    "    graph = graphviz.Source(graph_data)\n",
    "    graph.format = 'png'\n",
    "    graph.render(plot_title)\n",
    "    return graph\n",
    "tree_graph = plot_tree(tree, data, 'class', le, 'Iris Data2')"
   ]
  },
  {
   "cell_type": "code",
   "execution_count": 14,
   "metadata": {},
   "outputs": [],
   "source": []
  }
 ],
 "metadata": {
  "kernelspec": {
   "display_name": "Python 3",
   "language": "python",
   "name": "python3"
  },
  "language_info": {
   "codemirror_mode": {
    "name": "ipython",
    "version": 3
   },
   "file_extension": ".py",
   "mimetype": "text/x-python",
   "name": "python",
   "nbconvert_exporter": "python",
   "pygments_lexer": "ipython3",
   "version": "3.6.5"
  }
 },
 "nbformat": 4,
 "nbformat_minor": 2
}
